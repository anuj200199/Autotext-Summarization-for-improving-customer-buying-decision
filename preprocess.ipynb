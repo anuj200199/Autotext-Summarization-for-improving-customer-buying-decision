{
 "cells": [
  {
   "cell_type": "code",
   "execution_count": 3,
   "metadata": {},
   "outputs": [],
   "source": [
    "import pandas as pd\n",
    "import nltk\n",
    "from nltk.corpus import stopwords\n",
    "from nltk.stem.wordnet import WordNetLemmatizer\n",
    "from nltk.tokenize import sent_tokenize, word_tokenize\n",
    "from string import digits\n",
    "from collections import Counter\n",
    "import csv\n",
    "import re\n",
    "import io\n",
    "import inflection\n",
    "import os"
   ]
  },
  {
   "cell_type": "code",
   "execution_count": 4,
   "metadata": {},
   "outputs": [],
   "source": [
    "import pandas as pd"
   ]
  },
  {
   "cell_type": "code",
   "execution_count": 5,
   "metadata": {},
   "outputs": [],
   "source": [
    "data=pd.read_csv('reviews_data.csv')"
   ]
  },
  {
   "cell_type": "code",
   "execution_count": 6,
   "metadata": {},
   "outputs": [
    {
     "name": "stdout",
     "output_type": "stream",
     "text": [
      "(5000, 24)\n"
     ]
    }
   ],
   "source": [
    "print(data.shape)"
   ]
  },
  {
   "cell_type": "code",
   "execution_count": 7,
   "metadata": {},
   "outputs": [
    {
     "name": "stdout",
     "output_type": "stream",
     "text": [
      "Index(['id', 'dateAdded', 'dateUpdated', 'name', 'asins', 'brand',\n",
      "       'categories', 'primaryCategories', 'imageURLs', 'keys', 'manufacturer',\n",
      "       'manufacturerNumber', 'reviews.date', 'reviews.dateAdded',\n",
      "       'reviews.dateSeen', 'reviews.doRecommend', 'reviews.id',\n",
      "       'reviews.numHelpful', 'reviews.rating', 'reviews.sourceURLs',\n",
      "       'reviews.text', 'reviews.title', 'reviews.username', 'sourceURLs'],\n",
      "      dtype='object')\n"
     ]
    }
   ],
   "source": [
    "print(data.columns)"
   ]
  },
  {
   "cell_type": "code",
   "execution_count": 8,
   "metadata": {},
   "outputs": [],
   "source": [
    "products_unique=data.iloc[:]['name'].unique()"
   ]
  },
  {
   "cell_type": "code",
   "execution_count": 9,
   "metadata": {},
   "outputs": [],
   "source": [
    "product_details=data.groupby('name')['reviews.text'].apply(' '.join).reset_index()"
   ]
  },
  {
   "cell_type": "code",
   "execution_count": 10,
   "metadata": {},
   "outputs": [],
   "source": [
    "product_count=data.groupby('name').count()"
   ]
  },
  {
   "cell_type": "code",
   "execution_count": 11,
   "metadata": {},
   "outputs": [],
   "source": [
    "product_details.to_csv('product_grouped.csv',index=False)"
   ]
  },
  {
   "cell_type": "code",
   "execution_count": 12,
   "metadata": {},
   "outputs": [],
   "source": [
    "#split sentences\n",
    "caps = \"([A-Z])\"\n",
    "prefixes = \"(Mr|St|Mrs|Ms|Dr)[.]\"\n",
    "suffixes = \"(Inc|Ltd|Jr|Sr|Co)\"\n",
    "starters = \"(Mr|Mrs|Ms|Dr|He\\s|She\\s|It\\s|They\\s|Their\\s|Our\\s|We\\s|But\\s|However\\s|That\\s|This\\s|Wherever)\"\n",
    "acronyms = \"([A-Z][.][A-Z][.](?:[A-Z][.])?)\"\n",
    "websites = \"[.](com|net|org|io|gov)\"\n",
    "\n",
    "def split_into_sentences(text):\n",
    "    text = \" \" + text + \"  \"\n",
    "    text = text.replace(\"\\n\",\" \")\n",
    "    text = re.sub(prefixes,\"\\\\1<prd>\",text)\n",
    "    text = re.sub(websites,\"<prd>\\\\1\",text)\n",
    "    if \"Ph.D\" in text: text = text.replace(\"Ph.D.\",\"Ph<prd>D<prd>\")\n",
    "    text = re.sub(\"\\s\" + caps + \"[.] \",\" \\\\1<prd> \",text)\n",
    "    text = re.sub(acronyms+\" \"+starters,\"\\\\1<stop> \\\\2\",text)\n",
    "    text = re.sub(caps + \"[.]\" + caps + \"[.]\" + caps + \"[.]\",\"\\\\1<prd>\\\\2<prd>\\\\3<prd>\",text)\n",
    "    text = re.sub(caps + \"[.]\" + caps + \"[.]\",\"\\\\1<prd>\\\\2<prd>\",text)\n",
    "    text = re.sub(\" \"+suffixes+\"[.] \"+starters,\" \\\\1<stop> \\\\2\",text)\n",
    "    text = re.sub(\" \"+suffixes+\"[.]\",\" \\\\1<prd>\",text)\n",
    "    text = re.sub(\" \" + caps + \"[.]\",\" \\\\1<prd>\",text)\n",
    "    if \"”\" in text: text = text.replace(\".”\",\"”.\")\n",
    "    if \"\\\"\" in text: text = text.replace(\".\\\"\",\"\\\".\")\n",
    "    if \"!\" in text: text = text.replace(\"!\\\"\",\"\\\"!\")\n",
    "    if \"?\" in text: text = text.replace(\"?\\\"\",\"\\\"?\")\n",
    "    text = text.replace(\".\",\".<stop>\")\n",
    "    text = text.replace(\"?\",\"?<stop>\")\n",
    "    text = text.replace(\"!\",\"!<stop>\")\n",
    "    text = text.replace(\"<prd>\",\".\")\n",
    "    sentences = text.split(\"<stop>\")\n",
    "    sentences = sentences[:-1]\n",
    "    sentences = [s.strip() for s in sentences]\n",
    "    return sentences"
   ]
  },
  {
   "cell_type": "code",
   "execution_count": 13,
   "metadata": {},
   "outputs": [],
   "source": [
    "def decontracted(text):\n",
    "    \n",
    "    \n",
    "    # specific\n",
    "    text = re.sub(r\"won't\", \"will not\", text)\n",
    "    text = re.sub(r\"can\\'t\", \"can not\", text)\n",
    "\n",
    "    # general\n",
    "    text = re.sub(r\"n\\'t\", \" not\", text)\n",
    "    text = re.sub(r\"\\'re\", \" are\", text)\n",
    "    text = re.sub(r\"\\'s\", \" is\", text)\n",
    "    text = re.sub(r\"\\'d\", \" would\", text)\n",
    "    text = re.sub(r\"\\'ll\", \" will\", text)\n",
    "    text = re.sub(r\"\\'t\", \" not\", text)\n",
    "    text = re.sub(r\"\\'ve\", \" have\", text)\n",
    "    text = re.sub(r\"\\'m\", \" am\", text)\n",
    "    return text"
   ]
  },
  {
   "cell_type": "code",
   "execution_count": 14,
   "metadata": {},
   "outputs": [],
   "source": [
    "def unwanted_char(text):\n",
    "    text = re.sub(r'https?:\\/\\/.*[\\r\\n]*', '', text,flags=re.MULTILINE)\n",
    "    text = re.sub(r'\\<a href', ' ', text)\n",
    "    text = re.sub(r'&amp;', '', text) \n",
    "    text = re.sub(r'.[_\"\\-;%()|+&=*%.,!?:#$@\\[\\]/]', ' ', text)\n",
    "    text = re.sub(r'<br />', ' ', text)\n",
    "    text = re.sub(r'\\'', ' ', text)\n",
    "    text=text.translate(str.maketrans('','','1234567890'))\n",
    "    return text"
   ]
  },
  {
   "cell_type": "code",
   "execution_count": 15,
   "metadata": {},
   "outputs": [],
   "source": [
    "data=pd.read_csv('product_grouped.csv')"
   ]
  },
  {
   "cell_type": "code",
   "execution_count": 16,
   "metadata": {
    "scrolled": true
   },
   "outputs": [
    {
     "name": "stdout",
     "output_type": "stream",
     "text": [
      "I love this tablet. I purchased them for gift and am so glad I did! Looks pretty solid will update review as soon as gift is opened . for the price this is a great works well the for the price display is hd love it Great tablet for under $100. Does not have the highest specs, but gets the job done for lite tablet users. Purchased mainly to use travelling so haven't really had the opportunity to give it a fair road test at this point. It was advertised as capable of downloading movies and books so you can watch/read while travelling without burning through your data or being hit with data roaming fees or having to purchase wifi during flights. This is my second Kindle and I love it. It's lightweight, simple, and fast. It's convenient for trips and fits in my bag without weighing it down. It's a good starter tablet, to bad it runs on the Amazon OS. I bought these as a starter online browser. It is a very portable pad . Great price. The kindle fire hd is a sweet tablet for reading and apps like netflix or hulu. this is my first tablet .. love it .. actually read my first e-book on it .. large screen, easy to read & play games .. fits nicely in my purse This tablet is great for my son. Would be nice if it had a little more horsepower This tablet is great for my son. Would be nice if it had a little more horsepower This 8 inch Fire is definitely better than the cheaper 7 inch. It works fine enough for teens to play games and watch movies. I purchased this tablet and am very happy with it. The Fire HD8 strikes an excellent balance between performance and price. It has many of the features you'd want in a tablet for a fraction of the cost. Works flawlessly for reading and video streaming. Good tablet. Gave as gift and person enjoys it. Recommend The kindle is great not only is it a reader its bascially a computer. It connects to the internet it takes pictures and has many other great features. This was a gift and they love it! Its compact, they can surf the web, play games check emails etc Works well. Easy to use. I like the auto on when you open the case I bought this as a way to easily read while on the go. I'm disappointed as it's really too big too easily carry around. I've discovered it's not all that easy to use it for reading purposes It a great product..,. The quality is awesome the pictures is good and clear... Love my mine! Works great with prime! And I have all my best movies! I purchased it for my dad (70)He needed something easy to use. He really enjoys it. I bought one for my boyfriend and one for his son. It's fast and easy to use. The display is not as sharp and vivid as they say but still good. Probably better for reading than watching videos. We didn't really get it for the games, but there is a good selection. WiFi works well and internet browsing is fast. It replaces my 6\" Fire Kindle. Love the HD quality. I bought one for my boyfriend and one for his son. It's fast and easy to use. This was replacement for my wife's original iPad and broken Kindle Paperwhite. She loves it, as it does basically everything both of the previous devices did in one unit that is easy to use, has good battery life, very nice screen resolution and good size for her. Great value, especially compared to an iPad. I purchased the kindle fire because I needed a entertainment only device for long flights. This device is the perfect size for travel and easy to use and set up with your Amazon account. It is worth purchasing a Fire tablet if you are an Amazon Prime member. If not, I would not recommend it because the available apps are limited . My only complaint about this device is that if it freezes it is difficult to reset. Owned a kindle fire HDX for GameCircle years. Finally decided Goodreads upgrade. This fire HD 8 is great. Really Prime the larger screen and new features. Loved the Fire HD7 but the latest HD8 is sharper, faster and still handles great. Looks pretty solid will update review as soon as gift is opened . Good tablet. Gave as gift and person enjoys it. Recommend You can't beat the price. Great deal for what you're paying. I purchased 2 of these FIre HD tablets as gifts. They pack a lot of punch for the price. I helped set them up so I was able to get an idea of how they are going to work. The screen was very nice and clear. Speed of tablet was good. It is easy to use. If you are already in the Amazon family through prime it is a no-brainer.I don't believe you can get a better tablet at this price point. Very user friendly and straight forward instructions great for all ages Tablet is perfect for beginners who just want basic Great quality, great price and best of all has good sound. Works better than the 7\" Amazon Fire tablet I have. Better screen, faster processor and bigger to boot. While the Fire hd8 tablet certainly will not perform like some of the more expensive units, for basic web surfing, email, and especially shopping on Amazons web site, this tablet performs well, although it will occasionally freeze while surfing some sites. The screen resolution is what I would call 'adequate', but not on par with other high resolution (and far more expensive) tablets out there.Overall, I am pleased with this tablet-so far. i have had not issues with my purchase. i found a great cover for it on line on amazon and use it every night. thank you for your service. Works better than the 7\" Amazon Fire tablet I have. Better screen, faster processor and bigger to boot. The Fire HD8 strikes an excellent balance between performance and price. It has many of the features you'd want in a tablet for a fraction of the cost. Works flawlessly for reading and video streaming. I bought this tablet to be pretty much exclusively an e-reader. It's actually cheaper than most of the kindles. For that limited use, it works fine. I don't think I would want to use it as a general purpose table (too slow!). Makes a fine e-reader though. As for recommending this to a friend, I would, but would make sure they knew what I use it for. This is just the right size and can put games on it just like an iPad. Amazing video quality easy to maneuver wonderful screen size easy set up I have enjoyed using the Fire HD. It is fast and easy to use. I also appreciate all the things it will do. This tablet is great and easy to use. Great way to keep the kids entertain. Great tablet other than the photo image quality is fuzzy and not the best. Great easy tablet for a reasonable price. Not the most super powerful. It can get the job done for simple tasks such as surfing the web, checking email, playing YouTube, etc. screen is clear and responsive. Great inexpensive tablet This tablet is great, and it has a good battery life. I'd recommend for people who love to read.\n"
     ]
    }
   ],
   "source": [
    "text_pro=data.iloc[0]['reviews.text']\n",
    "print(text_pro)\n"
   ]
  },
  {
   "cell_type": "code",
   "execution_count": 17,
   "metadata": {},
   "outputs": [],
   "source": [
    "f= open(\"big.txt\",\"w+\")\n",
    "f.write(text_pro)\n",
    "f.close()"
   ]
  },
  {
   "cell_type": "code",
   "execution_count": 18,
   "metadata": {},
   "outputs": [],
   "source": [
    "#spell corrector\n",
    "def words(text): return re.findall(r'\\w+', text.lower())\n",
    "\n",
    "WORDS = Counter(words(open('big.txt').read()))\n",
    "\n",
    "def P(word, N=sum(WORDS.values())): \n",
    "    \"Probability of `word`.\"\n",
    "    return WORDS[word] / N\n",
    "\n",
    "def correction(word): \n",
    "    \"Most probable spelling correction for word.\"\n",
    "    return max(candidates(word), key=P)\n",
    "\n",
    "def candidates(word): \n",
    "    \"Generate possible spelling corrections for word.\"\n",
    "    return (known([word]) or known(edits1(word)) or known(edits2(word)) or [word])\n",
    "\n",
    "def known(words): \n",
    "    \"The subset of `words` that appear in the dictionary of WORDS.\"\n",
    "    return set(w for w in words if w in WORDS)\n",
    "\n",
    "def edits1(word):\n",
    "    \"All edits that are one edit away from `word`.\"\n",
    "    letters    = 'abcdefghijklmnopqrstuvwxyz'\n",
    "    splits     = [(word[:i], word[i:])    for i in range(len(word) + 1)]\n",
    "    deletes    = [L + R[1:]               for L, R in splits if R]\n",
    "    transposes = [L + R[1] + R[0] + R[2:] for L, R in splits if len(R)>1]\n",
    "    replaces   = [L + c + R[1:]           for L, R in splits if R for c in letters]\n",
    "    inserts    = [L + c + R               for L, R in splits for c in letters]\n",
    "    return set(deletes + transposes + replaces + inserts)\n",
    "\n",
    "def edits2(word): \n",
    "    \"All edits that are two edits away from `word`.\"\n",
    "    return (e2 for e1 in edits1(word) for e2 in edits1(e1))\n",
    "\n",
    "def spelling_corrector(text): \n",
    "    text=text.split()   \n",
    "    text=[correction(w) for w in text]\n",
    "    text=\" \".join(text)\n",
    "    return text"
   ]
  },
  {
   "cell_type": "code",
   "execution_count": 19,
   "metadata": {},
   "outputs": [],
   "source": [
    "#funtion that calls all the preprocessing function\n",
    "def clean_text(text):\n",
    "    \n",
    "    #convert to lower case\n",
    "    text=text.lower()\n",
    "    \n",
    "    #replace contractions with their expanded  form\n",
    "    text=decontracted(text)\n",
    "    \n",
    "    #remove unwanted characters\n",
    "    text=unwanted_char(text)\n",
    "    \n",
    "    #remove stopwords\n",
    "    text = text.split()\n",
    "    stops = set(stopwords.words(\"english\"))\n",
    "    text = [w for w in text if not w in stops]\n",
    "    text = \" \".join(text)\n",
    "    \n",
    "    #singularize\n",
    "    text = text.split()\n",
    "    stops = set(stopwords.words(\"english\"))\n",
    "    text = [inflection.singularize(w) for w in text]\n",
    "    text = \" \".join(text)\n",
    "    \n",
    "    #spell corrector \n",
    "    text=spelling_corrector(text)\n",
    "    \n",
    "    #lemmatize text\n",
    "    \"\"\"lmtzr=WordNetLemmatizer()\n",
    "    text=text.split()\n",
    "    text=[lmtzr.lemmatize(word) for word in text]\n",
    "    text=\" \".join(text)\"\"\"\n",
    "    \n",
    "    return text"
   ]
  },
  {
   "cell_type": "code",
   "execution_count": 20,
   "metadata": {},
   "outputs": [],
   "source": [
    "#function that splits, preprocesses and saves the output\n",
    "def clean_split(text):\n",
    "    #text=text.split()\n",
    "    clean_texts=[]\n",
    "    split_sent=[]\n",
    "    \n",
    "    sent=split_into_sentences(text)\n",
    "    for j in range(len(sent)):\n",
    "        processed=clean_text(sent[j])\n",
    "        if processed!=\" \":\n",
    "            split_sent.append(sent[j])\n",
    "            clean_texts.append(processed)\n",
    "    split_output='split_sentences.csv'\n",
    "    preprocessed_output='processed_sentences.csv'\n",
    "    \n",
    "    \"\"\"file_name=os.path.splitext(os.path.splitext(a_file)[0])[0]\n",
    "    #print (file_name)\n",
    "    \n",
    "    split_output=os.path.join(split_output_dir,file_name+\"_split.csv\")\n",
    "    preprocessed_output=os.path.join(preprocessed_output_dir,file_name+\"_pre.csv\")\n",
    "    \"\"\"\n",
    "    \n",
    "    with open(preprocessed_output,'w+') as csv_file:\n",
    "        for line in clean_texts:\n",
    "            csv_file.write(line)\n",
    "            csv_file.write('\\n')\n",
    "            \n",
    "    with open(split_output,'w+') as csv_file:\n",
    "        for line in split_sent:\n",
    "            csv_file.write(line)\n",
    "            csv_file.write('\\n')"
   ]
  },
  {
   "cell_type": "code",
   "execution_count": 22,
   "metadata": {},
   "outputs": [],
   "source": [
    "clean_split(text_pro)"
   ]
  },
  {
   "cell_type": "code",
   "execution_count": null,
   "metadata": {},
   "outputs": [],
   "source": []
  }
 ],
 "metadata": {
  "anaconda-cloud": {},
  "kernelspec": {
   "display_name": "Python 3",
   "language": "python",
   "name": "python3"
  },
  "language_info": {
   "codemirror_mode": {
    "name": "ipython",
    "version": 3
   },
   "file_extension": ".py",
   "mimetype": "text/x-python",
   "name": "python",
   "nbconvert_exporter": "python",
   "pygments_lexer": "ipython3",
   "version": "3.7.3"
  }
 },
 "nbformat": 4,
 "nbformat_minor": 1
}
