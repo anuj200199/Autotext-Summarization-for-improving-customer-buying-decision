{
 "cells": [
  {
   "cell_type": "code",
   "execution_count": 21,
   "metadata": {},
   "outputs": [],
   "source": [
    "from __future__ import print_function\n",
    "import re\n",
    "import sys\n",
    "import io\n",
    "import pandas as pd\n",
    "import numpy as np\n",
    "from operator import add\n",
    "import os"
   ]
  },
  {
   "cell_type": "code",
   "execution_count": 22,
   "metadata": {},
   "outputs": [],
   "source": [
    "def pagerank(matrix, eps=0.5, d=0.85):\n",
    "    P = np.ones(len(matrix)) / len(matrix)\n",
    "    #P=pd.DataFrame(P)\n",
    "    #print (P)\n",
    "    matrix=matrix.values\n",
    "    while True:\n",
    "        #print (P.shape)\n",
    "        #print (matrix.shape)\n",
    "        A=matrix.T.dot(P)\n",
    "        #print (A.shape)\n",
    "        new_P = np.ones(len(matrix)) * (1 - d) / len(matrix) + d * matrix.T.dot(P)\n",
    "        delta = abs((new_P - P).sum())\n",
    "        if delta <= eps:\n",
    "            return new_P\n",
    "        P = new_P"
   ]
  },
  {
   "cell_type": "code",
   "execution_count": 23,
   "metadata": {},
   "outputs": [
    {
     "name": "stdout",
     "output_type": "stream",
     "text": [
      "(111, 111)\n"
     ]
    }
   ],
   "source": [
    "\n",
    "similarity_matrix = pd.read_csv('similarity_matrix.csv')\n",
    "similarity_matrix=similarity_matrix.iloc[:,1:]\n",
    "print(similarity_matrix.shape)"
   ]
  },
  {
   "cell_type": "code",
   "execution_count": 24,
   "metadata": {},
   "outputs": [],
   "source": [
    "import numpy as np\n",
    "similarity_matrix=np.array(similarity_matrix)\n",
    "import networkx as nx\n",
    "nx_graph=nx.from_numpy_array(similarity_matrix)\n",
    "score=nx.pagerank(nx_graph)"
   ]
  },
  {
   "cell_type": "code",
   "execution_count": null,
   "metadata": {},
   "outputs": [],
   "source": [
    "similarity_matrix=pd.DataFrame(similarity_matrix)\n",
    "score=pagerank(similarity_matrix)"
   ]
  },
  {
   "cell_type": "code",
   "execution_count": 25,
   "metadata": {},
   "outputs": [],
   "source": [
    "ranks=sorted(range(len(score)),key=lambda k:score[k])"
   ]
  },
  {
   "cell_type": "code",
   "execution_count": 26,
   "metadata": {},
   "outputs": [],
   "source": [
    "sent=pd.read_csv('split_sentences.csv',header=None)\n",
    "data=sent.iloc[:,0]\n",
    "#for i in range(0,5):"
   ]
  },
  {
   "cell_type": "code",
   "execution_count": 31,
   "metadata": {},
   "outputs": [],
   "source": [
    "stri=''\n",
    "for i in range(0,6):\n",
    "    stri=stri+' '+data[ranks[i]]\n",
    "    "
   ]
  },
  {
   "cell_type": "code",
   "execution_count": 32,
   "metadata": {},
   "outputs": [
    {
     "name": "stdout",
     "output_type": "stream",
     "text": [
      " MAKES A FINE E-READER THOUGH. I HAVE HAD NOT ISSUES WITH MY PURCHASE. LOVED THE FIRE HD7 BUT THE LATEST HD8 IS SHARPER I BOUGHT THIS TABLET TO BE PRETTY MUCH EXCLUSIVELY AN E-READER. I BOUGHT THESE AS A STARTER ONLINE BROWSER. IT IS EASY TO USE.\n"
     ]
    }
   ],
   "source": [
    "print(stri.upper())"
   ]
  },
  {
   "cell_type": "code",
   "execution_count": null,
   "metadata": {},
   "outputs": [],
   "source": []
  }
 ],
 "metadata": {
  "anaconda-cloud": {},
  "kernelspec": {
   "display_name": "Python 3",
   "language": "python",
   "name": "python3"
  },
  "language_info": {
   "codemirror_mode": {
    "name": "ipython",
    "version": 3
   },
   "file_extension": ".py",
   "mimetype": "text/x-python",
   "name": "python",
   "nbconvert_exporter": "python",
   "pygments_lexer": "ipython3",
   "version": "3.7.3"
  }
 },
 "nbformat": 4,
 "nbformat_minor": 1
}
